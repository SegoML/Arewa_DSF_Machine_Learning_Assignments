{
 "cells": [
  {
   "cell_type": "markdown",
   "id": "5a0d3bb5",
   "metadata": {},
   "source": [
    "# Assignment: Evaluating Data from a Form\n",
    "\n",
    "A client has been testing a [small form](index.html) to gather some basic data about their client-base. They have brought their findings to you to validate the data they have gathered. You can open the `index.html` page in a browser to take a look at the form.\n",
    "\n",
    "You have been provided a [dataset of csv records](form.csv) that contain entries from the form as well as some basic visualizations.The client pointed out that some of the visualizations look incorrect but they're unsure about how to resolve them.\n",
    "\n",
    "## Instructions\n",
    "\n",
    "Use the techniques in this lesson to make recommendations about the form so it captures accurate and consistent information. "
   ]
  },
  {
   "cell_type": "markdown",
   "id": "f8ee68d5",
   "metadata": {},
   "source": [
    "### Python Libraries Involved:\n",
    "- pandas:- For reading and importing the Data\n",
    "- Matplotlib:- For visualizing the data"
   ]
  },
  {
   "cell_type": "code",
   "execution_count": 2,
   "id": "382e34e6",
   "metadata": {},
   "outputs": [
    {
     "name": "stdout",
     "output_type": "stream",
     "text": [
      "  birth_month   state   pet\n",
      "0     January     NaN  Cats\n",
      "1         JAN      CA  Cats\n",
      "2        Sept  Hawaii   Dog\n",
      "3     January      AK   Dog\n",
      "4        July      RI  Cats\n"
     ]
    }
   ],
   "source": [
    "# Import the libraries \n",
    "import pandas as pd\n",
    "import numpy as np\n",
    "import matplotlib.pyplot as plt\n",
    "\n",
    "#loading the dataset\n",
    "path = 'form.csv'\n",
    "form_df = pd.read_csv(path)\n",
    "\n",
    "# Display the first few rows of the dataset\n",
    "print(form_df.head())"
   ]
  },
  {
   "cell_type": "code",
   "execution_count": null,
   "id": "e912298f",
   "metadata": {},
   "outputs": [],
   "source": [
    "# visualizing the distribution of states\n",
    "plt.figure(figsize=(10, 6))\n",
    "form_df['state'].value_counts().plot(kind='bar', color='blue', alpha=0.7)\n",
    "plt.title('Distribution of States')\n",
    "plt.show()"
   ]
  },
  {
   "cell_type": "code",
   "execution_count": null,
   "id": "36b7bceb",
   "metadata": {},
   "outputs": [],
   "source": [
    "form_df['birth_month'].value_counts().plot(kind ='bar')\n",
    "plt.title('Distribution of Birth Months')\n",
    "plt.show()"
   ]
  },
  {
   "cell_type": "markdown",
   "id": "58a93fa4",
   "metadata": {},
   "source": [
    "## Solution\n",
    "\n",
    "From the data exploration above, a number of issues are found:\n",
    "* Missing value in the first row.\n",
    "* Inconsistent formating in both the `birth_mont` and `state` columns, some entries are abbreviated while others are in full.\n",
    "\n",
    "To clean this data, drop the row with the missing value using `dropna()`, change the values in `birth_month` into full month names, and change the values in `state` into abbreviations. Finally, identify and remove any duplicate."
   ]
  },
  {
   "cell_type": "code",
   "execution_count": 9,
   "id": "f4d19752",
   "metadata": {},
   "outputs": [
    {
     "name": "stdout",
     "output_type": "stream",
     "text": [
      "  birth_month       state   pet\n",
      "1         JAN          CA  Cats\n",
      "2        Sept      Hawaii   Dog\n",
      "3     January          AK   Dog\n",
      "4        July          RI  Cats\n",
      "5   September  California  Cats\n"
     ]
    }
   ],
   "source": [
    "# Drop the missing values \n",
    "form_df = form_df.dropna()\n",
    "\n",
    "#Check the data again\n",
    "print(form_df.head())\n"
   ]
  },
  {
   "cell_type": "code",
   "execution_count": 12,
   "id": "841906fb",
   "metadata": {},
   "outputs": [
    {
     "name": "stdout",
     "output_type": "stream",
     "text": [
      "  birth_month       state   pet\n",
      "1     January          CA  Cats\n",
      "2   September      Hawaii   Dog\n",
      "3     January          AK   Dog\n",
      "4        July          RI  Cats\n",
      "5   September  California  Cats\n",
      "6       April          CA   Dog\n",
      "7     January  California  Cats\n",
      "8    November          FL   Dog\n",
      "9    December     Florida  Cats\n"
     ]
    }
   ],
   "source": [
    "#Mapping birth month to full name\n",
    "month_mapping = {\n",
    "    'JAN' : 'January',\n",
    "    'Sept' : 'September'\n",
    "}\n",
    "\n",
    "#Replcaing the month mapping into the data\n",
    "form_df['birth_month'] = form_df['birth_month'].replace(month_mapping)\n",
    "\n",
    "#Checking\n",
    "print(form_df)"
   ]
  },
  {
   "cell_type": "code",
   "execution_count": 51,
   "id": "f9d282fb",
   "metadata": {},
   "outputs": [
    {
     "name": "stdout",
     "output_type": "stream",
     "text": [
      "      birth_month state   pet  index\n",
      "index                               \n",
      "1         January    CA  Cats      1\n",
      "2       September    Hi   Dog      2\n",
      "3         January    AK   Dog      3\n",
      "4            July    RI  Cats      4\n",
      "5       September    CA  Cats      5\n",
      "6           April    CA   Dog      6\n",
      "7        November    FL   Dog      7\n",
      "8        December    FL  Cats      8\n"
     ]
    }
   ],
   "source": [
    "# Dictionary to map full state names to abbreviations\n",
    "state_mapping = {\n",
    "    'California' : 'CA',\n",
    "    'Florida' : 'FL',\n",
    "    'Hawaii' : 'HI'\n",
    "}\n",
    "\n",
    "#Replacing the State abbreviation into the data\n",
    "form_df['state'] = form_df['state'].replace(state_mapping)\n",
    "\n",
    "#Checking the data\n",
    "print(form_df)"
   ]
  },
  {
   "cell_type": "code",
   "execution_count": 46,
   "id": "e4becc66",
   "metadata": {},
   "outputs": [
    {
     "name": "stdout",
     "output_type": "stream",
     "text": [
      "Empty DataFrame\n",
      "Columns: [birth_month, state, pet]\n",
      "Index: []\n",
      "      birth_month state   pet  index\n",
      "index                               \n",
      "1         January    CA  Cats      1\n",
      "2       September    Hi   Dog      2\n",
      "3         January    AK   Dog      3\n",
      "4            July    RI  Cats      4\n",
      "5       September    CA  Cats      5\n",
      "6           April    CA   Dog      6\n",
      "7        November    FL   Dog      7\n",
      "8        December    FL  Cats      8\n"
     ]
    }
   ],
   "source": [
    "#Checking for Duplicate\n",
    "duplicates = form_df[form_df.duplicated()]\n",
    "print(duplicates)\n",
    "\n",
    "#droping the duplicate\n",
    "form_df = form_df.drop_duplicates()\n",
    " \n",
    "#Rest index coloumn\n",
    "form_df['index'] = range(1, len(form_df) + 1)\n",
    "\n",
    "print(form_df)\n"
   ]
  },
  {
   "cell_type": "markdown",
   "id": "f60fd760",
   "metadata": {},
   "source": [
    "### Visualized the Data (Solution)"
   ]
  },
  {
   "cell_type": "code",
   "execution_count": 49,
   "id": "81223e4e",
   "metadata": {},
   "outputs": [
    {
     "data": {
      "image/png": "[encoded data removed]",
      "text/plain": [
       "<Figure size 1000x600 with 1 Axes>"
      ]
     },
     "metadata": {},
     "output_type": "display_data"
    }
   ],
   "source": [
    "# visualizing the distribution of states\n",
    "plt.figure(figsize=(10, 6))\n",
    "form_df['state'].value_counts().plot(kind='bar', color='blue', alpha=0.7)\n",
    "plt.title('Distribution of States')\n",
    "plt.show()"
   ]
  },
  {
   "cell_type": "code",
   "execution_count": 52,
   "id": "cf78a78a",
   "metadata": {},
   "outputs": [
    {
     "data": {
      "image/png": "[encoded data removed]",
      "text/plain": [
       "<Figure size 640x480 with 1 Axes>"
      ]
     },
     "metadata": {},
     "output_type": "display_data"
    }
   ],
   "source": [
    "form_df['birth_month'].value_counts().plot(kind ='bar')\n",
    "plt.title('Distribution of Birth Months')\n",
    "plt.show()"
   ]
  },
  {
   "cell_type": "markdown",
   "id": "30adc185",
   "metadata": {},
   "source": [
    "# COMPLETE ASSIGNMENT"
   ]
  }
 ],
 "metadata": {
  "kernelspec": {
   "display_name": "ArewaDS",
   "language": "python",
   "name": "python3"
  },
  "language_info": {
   "codemirror_mode": {
    "name": "ipython",
    "version": 3
   },
   "file_extension": ".py",
   "mimetype": "text/x-python",
   "name": "python",
   "nbconvert_exporter": "python",
   "pygments_lexer": "ipython3",
   "version": "3.13.1"
  }
 },
 "nbformat": 4,
 "nbformat_minor": 5
}
